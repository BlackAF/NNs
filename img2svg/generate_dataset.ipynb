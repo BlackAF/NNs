{
 "cells": [
  {
   "cell_type": "code",
   "execution_count": 1,
   "metadata": {},
   "outputs": [],
   "source": [
    "import numpy as np\n",
    "import cairosvg\n",
    "import tensorflow as tf\n",
    "import matplotlib.pyplot as plt\n",
    "import time\n",
    "import pathlib"
   ]
  },
  {
   "cell_type": "code",
   "execution_count": 2,
   "metadata": {},
   "outputs": [],
   "source": [
    "class DatasetGenerator:\n",
    "    def __init__(self, log_dir):\n",
    "        self.log_dir = log_dir\n",
    "\n",
    "        pathlib.Path(log_dir, 'svgs').mkdir(parents=True, exist_ok=True)\n",
    "        pathlib.Path(log_dir, 'imgs').mkdir(parents=True, exist_ok=True)\n",
    "\n",
    "    def generate_lines(self, count):\n",
    "        file_names = []\n",
    "\n",
    "        # Generate random coordinates\n",
    "        all_coords = np.random.randint(0, 101, size=(count, 2, 2))\n",
    "\n",
    "        for coords in all_coords:\n",
    "            start_x = coords[0][0]\n",
    "            start_y = coords[0][1]\n",
    "            end_x = coords[1][0]\n",
    "            end_y = coords[1][1]\n",
    "            \n",
    "            # Build the svg\n",
    "            svg = self.build_svg(start_x, start_y, end_x, end_y)\n",
    "\n",
    "            timestamp = str(time.time()).replace('.', '')\n",
    "\n",
    "            # Write the svg and image to disk\n",
    "            self.save_svg(svg, timestamp)\n",
    "            self.save_img(svg, timestamp)\n",
    "\n",
    "            file_names.append(f'simple_line-{timestamp}')\n",
    "        \n",
    "        np.savetxt(pathlib.Path(self.log_dir, 'file_names.csv'), file_names, fmt='%s', delimiter=',')\n",
    "            \n",
    "\n",
    "    def build_svg(self, start_x, start_y, end_x, end_y):\n",
    "        assert 0 <= start_x <= 100\n",
    "        assert 0 <= start_y <= 100\n",
    "        assert 0 <= end_x <= 100\n",
    "        assert 0 <= end_y <= 100\n",
    "\n",
    "        svg_begin = '<svg xmlns=\"http://www.w3.org/2000/svg\" width=\"100\" height=\"100\">' + '\\n'\n",
    "        path = f'\\t<path fill=\"none\" stroke=\"#ffffff\" d=\"M{start_x},{start_y} L{end_x},{end_y}\" />' + '\\n'\n",
    "        svg_end = '</svg>' + '\\n'\n",
    "\n",
    "        svg = ''.join([svg_begin, path, svg_end])\n",
    "        \n",
    "        return svg\n",
    "        \n",
    "    def save_svg(self, svg, timestamp):\n",
    "        svg_path = pathlib.Path(self.log_dir, 'svgs', f'simple_line-{timestamp}.svg')\n",
    "        with open(svg_path, 'w') as f:\n",
    "            f.write(svg)\n",
    "\n",
    "    def save_img(self, svg, timestamp):\n",
    "        image_path = str(pathlib.Path(self.log_dir, 'imgs', f'simple_line-{timestamp}.png'))\n",
    "        cairosvg.svg2png(bytestring=svg.encode('UTF-8'), write_to=image_path)"
   ]
  },
  {
   "cell_type": "code",
   "execution_count": 3,
   "metadata": {},
   "outputs": [
    {
     "name": "stdout",
     "output_type": "stream",
     "text": [
      "Starting!\n",
      "Done! - Took:  82.8606379032135 s\n"
     ]
    }
   ],
   "source": [
    "dg = DatasetGenerator(log_dir='dataset')\n",
    "\n",
    "print('Starting!')\n",
    "\n",
    "start_time = time.time()\n",
    "dg.generate_lines(100000)\n",
    "end_time = time.time() - start_time\n",
    "\n",
    "print('Done! - Took: ', end_time, 's')"
   ]
  }
 ],
 "metadata": {
  "kernelspec": {
   "display_name": "Python 3",
   "language": "python",
   "name": "python3"
  },
  "language_info": {
   "codemirror_mode": {
    "name": "ipython",
    "version": 3
   },
   "file_extension": ".py",
   "mimetype": "text/x-python",
   "name": "python",
   "nbconvert_exporter": "python",
   "pygments_lexer": "ipython3",
   "version": "3.8.5"
  }
 },
 "nbformat": 4,
 "nbformat_minor": 4
}

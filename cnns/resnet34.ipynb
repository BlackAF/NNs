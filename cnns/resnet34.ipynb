{
 "cells": [
  {
   "cell_type": "code",
   "execution_count": 2,
   "metadata": {},
   "outputs": [
    {
     "data": {
      "text/plain": [
       "[PhysicalDevice(name='/physical_device:GPU:0', device_type='GPU')]"
      ]
     },
     "execution_count": 2,
     "metadata": {},
     "output_type": "execute_result"
    }
   ],
   "source": [
    "import tensorflow as tf\n",
    "import numpy as np\n",
    "\n",
    "from tensorflow.data import Dataset\n",
    "from tensorflow.keras.models import Sequential, Model\n",
    "from tensorflow.keras.layers import Conv2D, Layer, Input, MaxPooling2D, ReLU, Add, BatchNormalization, GlobalAveragePooling2D, Dense\n",
    "from tensorflow.keras.optimizers import Adam\n",
    "from tensorflow.keras.datasets import cifar100\n",
    "from tensorflow.keras.callbacks import TensorBoard\n",
    "\n",
    "tf.config.list_physical_devices('GPU')"
   ]
  },
  {
   "cell_type": "code",
   "execution_count": 13,
   "metadata": {},
   "outputs": [],
   "source": [
    "def load_ds():\n",
    "    (X_train, y_train), (X_val, y_val) = cifar100.load_data()\n",
    "\n",
    "    def parse_imgs(imgs, label):\n",
    "        imgs = tf.cast(imgs, tf.float32)\n",
    "        imgs = imgs / 255.0\n",
    "        \n",
    "        return imgs, label\n",
    "\n",
    "    train_ds = Dataset.from_tensor_slices((X_train, y_train))\n",
    "    train_ds = train_ds.shuffle(50000)\n",
    "    train_ds = train_ds.batch(64)\n",
    "    train_ds = train_ds.map(parse_imgs, num_parallel_calls=tf.data.experimental.AUTOTUNE)\n",
    "    train_ds = train_ds.prefetch(tf.data.experimental.AUTOTUNE)\n",
    "\n",
    "    val_ds = Dataset.from_tensor_slices((X_val, y_val))\n",
    "    val_ds = val_ds.shuffle(10000)\n",
    "    val_ds = val_ds.batch(64)\n",
    "    val_ds = val_ds.map(parse_imgs, num_parallel_calls=tf.data.experimental.AUTOTUNE)\n",
    "    val_ds = val_ds.prefetch(tf.data.experimental.AUTOTUNE)\n",
    "\n",
    "    return train_ds, val_ds"
   ]
  },
  {
   "cell_type": "code",
   "execution_count": 4,
   "metadata": {},
   "outputs": [],
   "source": [
    "class Block(Layer):\n",
    "    def __init__(self, filters, skip_connection, downsample=False, **kwargs):\n",
    "        super().__init__(**kwargs)\n",
    "        self.conv1 = Conv2D(filters, 3, padding='same', strides=2 if downsample else 1)\n",
    "        self.conv2 = Conv2D(filters, 3, padding='same')\n",
    "        self.batch_norm1 = BatchNormalization()\n",
    "        self.batch_norm2 = BatchNormalization()\n",
    "        self.relu = ReLU()\n",
    "        self.add = Add()\n",
    "        self.skip_connection = self.build_skip_connection(skip_connection, filters)\n",
    "        \n",
    "    def build_skip_connection(self, skip_connection, filters):\n",
    "        if skip_connection not in ('identity', 'projection', 'padding'):\n",
    "            raise ValueError('skip_connection must be either identity, projection or padding')\n",
    "            \n",
    "        if skip_connection == 'identity':\n",
    "            return lambda x: x\n",
    "        \n",
    "        if skip_connection == 'projection':\n",
    "            return Conv2D(filters, 1, strides=2)\n",
    "            \n",
    "        if skip_connection == 'padding':\n",
    "            # Pad the last dimension to have the same number of channels once we do the addition\n",
    "            return lambda x: tf.pad(x, paddings=[[0,0], [0,0], [0,0], [0,abs(filters - x.shape[-1])]])\n",
    "\n",
    "    def call(self, x, training=False):\n",
    "        skip_outputs = self.skip_connection(x)\n",
    "\n",
    "        x = self.conv1(x)\n",
    "        x = self.batch_norm1(x, training=training)\n",
    "        x = self.relu(x)\n",
    "        x = self.conv2(x)\n",
    "        x = self.batch_norm2(x, training=training)\n",
    "        x = self.add([x, skip_outputs])\n",
    "        x = self.relu(x)\n",
    "\n",
    "        return x\n",
    "    \n",
    "    def get_config(self):\n",
    "        config = super().get_config()\n",
    "        config.update({\n",
    "            'conv1': self.conv1,\n",
    "            'conv2': self.conv2,\n",
    "            'batch_norm1': self.batch_norm1,\n",
    "            'batch_norm2': self.batch_norm2,\n",
    "            'relu': self.relu,\n",
    "            'add': self.add,\n",
    "            'skip_connection': self.skip_connection\n",
    "        })\n",
    "        \n",
    "        return config"
   ]
  },
  {
   "cell_type": "code",
   "execution_count": 5,
   "metadata": {},
   "outputs": [],
   "source": [
    "def load_resnet34(input_shape, output_shape):\n",
    "    resnet34 = Sequential()\n",
    "\n",
    "    resnet34.add(Input(input_shape))\n",
    "\n",
    "    resnet34.add(Conv2D(64, 7, strides=2, padding='same', activation='relu'))\n",
    "    resnet34.add(MaxPooling2D(strides=2))\n",
    "\n",
    "    # Block 1\n",
    "    resnet34.add(Block(filters=64, skip_connection='identity'))\n",
    "    resnet34.add(Block(filters=64, skip_connection='identity'))\n",
    "    resnet34.add(Block(filters=64, skip_connection='identity'))\n",
    "\n",
    "    # Block 2\n",
    "    resnet34.add(Block(filters=128, skip_connection='projection', downsample=True))\n",
    "    resnet34.add(Block(filters=128, skip_connection='identity'))\n",
    "    resnet34.add(Block(filters=128, skip_connection='identity'))\n",
    "    resnet34.add(Block(filters=128, skip_connection='identity'))\n",
    "\n",
    "    # Block 3\n",
    "    resnet34.add(Block(filters=256, skip_connection='projection', downsample=True))\n",
    "    resnet34.add(Block(filters=256, skip_connection='identity'))\n",
    "    resnet34.add(Block(filters=256, skip_connection='identity'))\n",
    "    resnet34.add(Block(filters=256, skip_connection='identity'))\n",
    "    resnet34.add(Block(filters=256, skip_connection='identity'))\n",
    "    resnet34.add(Block(filters=256, skip_connection='identity'))\n",
    "\n",
    "    # Block 4\n",
    "    resnet34.add(Block(filters=512, skip_connection='projection', downsample=True))\n",
    "    resnet34.add(Block(filters=512, skip_connection='identity'))\n",
    "    resnet34.add(Block(filters=512, skip_connection='identity'))\n",
    "\n",
    "    # Output\n",
    "    resnet34.add(GlobalAveragePooling2D())\n",
    "    resnet34.add(Dense(100, activation='softmax'))\n",
    "\n",
    "    return resnet34"
   ]
  },
  {
   "cell_type": "code",
   "execution_count": 14,
   "metadata": {},
   "outputs": [
    {
     "name": "stdout",
     "output_type": "stream",
     "text": [
      "Epoch 1/10\n",
      "157/157 [==============================] - 20s 115ms/step - loss: 5.0735 - accuracy: 0.0260 - val_loss: 4.6914 - val_accuracy: 0.0103\n",
      "Epoch 2/10\n",
      "157/157 [==============================] - 18s 112ms/step - loss: 4.1605 - accuracy: 0.0629 - val_loss: 4.3116 - val_accuracy: 0.0507\n",
      "Epoch 3/10\n",
      "157/157 [==============================] - 17s 111ms/step - loss: 3.9889 - accuracy: 0.0856 - val_loss: 15.1104 - val_accuracy: 0.0295\n",
      "Epoch 4/10\n",
      "157/157 [==============================] - 18s 112ms/step - loss: 3.8538 - accuracy: 0.1075 - val_loss: 7.2578 - val_accuracy: 0.0469\n",
      "Epoch 5/10\n",
      "157/157 [==============================] - 18s 113ms/step - loss: 3.7125 - accuracy: 0.1231 - val_loss: 28.2295 - val_accuracy: 0.0507\n",
      "Epoch 6/10\n",
      "157/157 [==============================] - 17s 110ms/step - loss: 3.6963 - accuracy: 0.1307 - val_loss: 6.0668 - val_accuracy: 0.0629\n",
      "Epoch 7/10\n",
      "157/157 [==============================] - 18s 111ms/step - loss: 3.4846 - accuracy: 0.1661 - val_loss: 4.9239 - val_accuracy: 0.0842\n",
      "Epoch 8/10\n",
      "157/157 [==============================] - 18s 112ms/step - loss: 3.3009 - accuracy: 0.1922 - val_loss: 8.2179 - val_accuracy: 0.0840\n",
      "Epoch 9/10\n",
      "157/157 [==============================] - 17s 110ms/step - loss: 3.1236 - accuracy: 0.2179 - val_loss: 4.6014 - val_accuracy: 0.0849\n",
      "Epoch 10/10\n",
      "157/157 [==============================] - 17s 110ms/step - loss: 2.9988 - accuracy: 0.2467 - val_loss: 4.0101 - val_accuracy: 0.1391\n"
     ]
    },
    {
     "data": {
      "text/plain": [
       "<tensorflow.python.keras.callbacks.History at 0x7fad36418bb0>"
      ]
     },
     "execution_count": 14,
     "metadata": {},
     "output_type": "execute_result"
    }
   ],
   "source": [
    "resnet34 = load_resnet34(input_shape=(32, 32, 3), output_shape=100)\n",
    "train_ds, val_ds = load_ds()\n",
    "\n",
    "# resnet34.summary()\n",
    "\n",
    "resnet34.compile(optimizer=Adam(lr=1e-03), loss='sparse_categorical_crossentropy', metrics=['accuracy'])\n",
    "\n",
    "# callbacks = [\n",
    "#     TensorBoard('logs/resnet')\n",
    "# ]\n",
    "\n",
    "epochs = 10\n",
    "resnet34.fit(train_ds, epochs=epochs, validation_data=val_ds)"
   ]
  },
  {
   "cell_type": "code",
   "execution_count": null,
   "metadata": {},
   "outputs": [],
   "source": []
  }
 ],
 "metadata": {
  "kernelspec": {
   "display_name": "Python 3",
   "language": "python",
   "name": "python3"
  },
  "language_info": {
   "codemirror_mode": {
    "name": "ipython",
    "version": 3
   },
   "file_extension": ".py",
   "mimetype": "text/x-python",
   "name": "python",
   "nbconvert_exporter": "python",
   "pygments_lexer": "ipython3",
   "version": "3.8.5"
  }
 },
 "nbformat": 4,
 "nbformat_minor": 4
}
